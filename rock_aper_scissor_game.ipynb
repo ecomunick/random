{
  "nbformat": 4,
  "nbformat_minor": 0,
  "metadata": {
    "colab": {
      "provenance": [],
      "authorship_tag": "ABX9TyNKV8SVeThPcsJuJyDurldB",
      "include_colab_link": true
    },
    "kernelspec": {
      "name": "python3",
      "display_name": "Python 3"
    },
    "language_info": {
      "name": "python"
    }
  },
  "cells": [
    {
      "cell_type": "markdown",
      "metadata": {
        "id": "view-in-github",
        "colab_type": "text"
      },
      "source": [
        "<a href=\"https://colab.research.google.com/github/ecomunick/random/blob/main/rock_aper_scissor_game.ipynb\" target=\"_parent\"><img src=\"https://colab.research.google.com/assets/colab-badge.svg\" alt=\"Open In Colab\"/></a>"
      ]
    },
    {
      "cell_type": "code",
      "execution_count": 2,
      "metadata": {
        "colab": {
          "base_uri": "https://localhost:8080/"
        },
        "id": "1JVUPi3P9ynM",
        "outputId": "b701639d-f22a-4bc7-ee89-1634d9b2bb69"
      },
      "outputs": [
        {
          "output_type": "stream",
          "name": "stdout",
          "text": [
            "Enter a choice (rock, paper, scissor): paper\n",
            "You chose paper, computer chose paper\n",
            "It's a tie!.\n"
          ]
        }
      ],
      "source": [
        "import random\n",
        "\n",
        "def get_choices():\n",
        "  player_choice = input(\"Enter a choice (rock, paper, scissor): \")\n",
        "  options = [\"rock\", \"paper\", \"scissor\"]\n",
        "  computer_choice = random.choice(options)\n",
        "  choices = {\"player\": player_choice, \"computer\" : computer_choice}\n",
        "  return choices\n",
        "\n",
        "#choices = get_choices()\n",
        "#print(choices)\n",
        "\n",
        "#def check_win(player, computer):\n",
        "  #print(\"You chose \" + player + \", computer chose \"+ computer)\n",
        "  print(f\"You chose {player}, computer chose {computer}\")\n",
        "  if player == computer:\n",
        "    #return [player, computer]\n",
        "    return \"It's a tie!.\"\n",
        "  elif player == \"rock\" and computer == \"scissor\":\n",
        "    return \"Rock smashes scissor! You win!\"\n",
        "  elif player == \"rock\" and computer == \"paper\":\n",
        "    return \"Papers covers rock! You lose.\"\n",
        "  else:\n",
        "    return \"Computer wins!\"\n",
        "\n",
        "#check_win(\"rock\", \"paper\")\n",
        "\n",
        "\n",
        "def check_win(player, computer):\n",
        "  print(f\"You chose {player}, computer chose {computer}\")\n",
        "  if player == computer:\n",
        "    return \"It's a tie!.\"\n",
        "  elif player == \"rock\":\n",
        "    if computer == \"scissor\":\n",
        "      return \"Rock smashes scissor! You win!\"\n",
        "    else:\n",
        "      return \"Papers covers rock! You lose.\"\n",
        "  elif player == \"paper\":\n",
        "    if computer == \"rock\":\n",
        "      return \"Papers covers rock! You win!\"\n",
        "    else:\n",
        "      return \"Scissors cuts paper! You lose.\"\n",
        "  elif player == \"scissor\":\n",
        "    if computer == \"paper\":\n",
        "      return \"Scissors cuts paper! You win.\"\n",
        "    else:\n",
        "      return \"Rock smashes scissor!  You lose.\"\n",
        "\n",
        "choices = get_choices()\n",
        "result = check_win(choices[\"player\"], choices[\"computer\"])\n",
        "print(result)\n"
      ]
    },
    {
      "cell_type": "code",
      "source": [],
      "metadata": {
        "id": "b1iLuWeE-FBt"
      },
      "execution_count": null,
      "outputs": []
    }
  ]
}